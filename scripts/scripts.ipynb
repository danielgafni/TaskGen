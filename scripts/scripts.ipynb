{
 "cells": [
  {
   "cell_type": "markdown",
   "metadata": {
    "ExecuteTime": {
     "end_time": "2019-08-07T18:05:50.540604Z",
     "start_time": "2019-08-07T18:05:50.536616Z"
    }
   },
   "source": [
    "# Всякие скрипты для загрузки кривых Глебиных таблиц"
   ]
  },
  {
   "cell_type": "code",
   "execution_count": 86,
   "metadata": {
    "ExecuteTime": {
     "end_time": "2019-08-07T19:12:10.131332Z",
     "start_time": "2019-08-07T19:12:09.904933Z"
    },
    "collapsed": true
   },
   "outputs": [
    {
     "name": "stdout",
     "output_type": "stream",
     "text": [
      "['комбинаторика', 'числа'] 0\n",
      "['комбинаторика', 'числа'] 1\n",
      "['комбинаторика'] 10\n",
      "['комбинаторика'] 11\n",
      "['комбинаторика'] 12\n",
      "['комбинаторика'] 13\n",
      "['комбинаторика'] 14\n",
      "['комбинаторика'] 15\n",
      "['комбинаторика'] 16\n",
      "['комбинаторика'] 17\n",
      "['комбинаторика', 'числа'] 18\n",
      "['комбинаторика'] 19\n",
      "['комбинаторика', 'числа'] 2\n",
      "['комбинаторика'] 20\n",
      "['комбинаторика'] 21\n",
      "['комбинаторика', 'геометрия'] 22\n",
      "['комбинаторика', 'шахматы'] 23\n",
      "['комбинаторика', 'шахматы'] 24\n",
      "['комбинаторика', 'числа'] 25\n",
      "['комбинаторика'] 26\n",
      "['комбинаторика'] 27\n",
      "['комбинаторика'] 28\n",
      "['комбинаторика'] 29\n",
      "['комбинаторика', 'шахматы'] 3\n",
      "['комбинаторика'] 30\n",
      "['комбинаторика'] 31\n",
      "['комбинаторика'] 32\n",
      "['комбинаторика'] 33\n",
      "['комбинаторика', 'геометрия'] 34\n",
      "['комбинаторика'] 35\n",
      "['комбинаторика'] 36\n",
      "['комбинаторика'] 37\n",
      "['комбинаторика', 'шахматы'] 38\n",
      "['комбинаторика', 'числа'] 39\n",
      "['комбинаторика', 'шахматы'] 4\n",
      "['комбинаторика', 'числа'] 40\n",
      "['комбинаторика', 'графы'] 41\n",
      "['комбинаторика'] 42\n",
      "['комбинаторика'] 43\n",
      "['комбинаторика'] 44\n",
      "['комбинаторика'] 45\n",
      "['комбинаторика'] 46\n",
      "['комбинаторика'] 47\n",
      "['комбинаторика'] 48\n",
      "['комбинаторика'] 49\n",
      "['комбинаторика'] 5\n",
      "['комбинаторика'] 50\n",
      "['комбинаторика'] 51\n",
      "['комбинаторика'] 52\n",
      "['комбинаторика'] 53\n",
      "['комбинаторика', 'кубики'] 54\n",
      "['неравенства'] 55\n",
      "['графы', 'кубики', 'стереометрия'] 56\n",
      "['конструктивы', 'стереометрия'] 57\n",
      "['комбинаторика'] 58\n",
      "['комбинаторика', 'алгебра'] 59\n",
      "['комбинаторика'] 6\n",
      "['комбинаторика'] 60\n",
      "['комбинаторика'] 61\n",
      "['комбинаторика'] 62\n",
      "['комбинаторика'] 63\n",
      "['комбинаторика'] 64\n",
      "['комбинаторика'] 65\n",
      "['комбинаторика'] 66\n",
      "['комбинаторика', 'алгебра'] 67\n",
      "['комбинаторика', 'алгебра'] 68\n",
      "['комбинаторика'] 69\n",
      "['комбинаторика'] 7\n",
      "['комбинаторика'] 8\n",
      "['комбинаторика'] 9\n"
     ]
    }
   ],
   "source": [
    "datapath = r'D:\\Files\\Programming\\TaskGen\\data'\n",
    "for file in os.listdir(datapath):\n",
    "    foldername = os.fsdecode(file)\n",
    "    if os.path.exists(datapath + r'\\\\' + foldername + r'\\topic1.txt'):\n",
    "        file1 = open(datapath + r'\\\\' + foldername + r'\\topic1.txt', 'r')\n",
    "        topic1 = file1.read()\n",
    "        file1.close()\n",
    "    if os.path.exists(datapath + r'\\\\' + foldername + r'\\topic2.txt'):\n",
    "        file2 = open(datapath + r'\\\\' + foldername + r'\\topic2.txt', 'r')\n",
    "        topic2 = file2.read()\n",
    "        file2.close()\n",
    "    if os.path.exists(datapath + r'\\\\' + foldername + r'\\topic3.txt'):\n",
    "        file3 = open(datapath + r'\\\\' + foldername + r'\\topic3.txt', 'r')\n",
    "        topic3 = file3.read()\n",
    "        file3.close()\n",
    "    topics = []\n",
    "    if topic1 != 'nan':\n",
    "        topics.append(topic1)\n",
    "    if topic2 != 'nan':\n",
    "        topics.append(topic2)\n",
    "    if topic3 != 'nan':\n",
    "        topics.append(topic3)\n",
    "    print(topics, foldername)\n",
    "    file_topics = open(datapath + r'\\\\' + foldername + r'\\topics.txt', 'w')\n",
    "    for topic in topics[:-1]:\n",
    "        file_topics.write(topic + ', ')\n",
    "    file_topics.write(topics[-1])\n",
    "    file_topics.close()\n",
    "    #os.remove(datapath + r'\\\\' + foldername + r'\\topic1.txt')\n",
    "    #os.remove(datapath + r'\\\\' + foldername + r'\\topic2.txt')\n",
    "    #os.remove(datapath + r'\\\\' + foldername + r'\\topic3.txt')\n"
   ]
  },
  {
   "cell_type": "code",
   "execution_count": 99,
   "metadata": {
    "ExecuteTime": {
     "end_time": "2019-08-07T19:39:08.002495Z",
     "start_time": "2019-08-07T19:39:07.938673Z"
    }
   },
   "outputs": [],
   "source": [
    "for file in os.listdir(datapath):\n",
    "    foldername = os.fsdecode(file)\n",
    "    file_properties = open(datapath + r'\\\\' + foldername + r'\\\\properties.txt', 'w')\n",
    "    name, author, date, difficulty = None, None, None, None\n",
    "    if os.path.exists(datapath + r'\\\\' + foldername + r'\\\\name.txt'):\n",
    "        file_name = open(datapath  + r'\\\\' + foldername + r'\\\\name.txt', 'r')\n",
    "        name = file_name.read()\n",
    "        file_name.close()\n",
    "    if os.path.exists(datapath  + r'\\\\' + foldername + r'\\\\author.txt'):\n",
    "        file_author = open(datapath  + r'\\\\' + foldername + r'\\\\author.txt', 'r')\n",
    "        author = file_author.read()\n",
    "        file_author.close()\n",
    "    if os.path.exists(datapath  + r'\\\\' + foldername + r'\\\\date.txt'):\n",
    "        file_date = open(datapath  + r'\\\\' + foldername + r'\\\\date.txt', 'r')\n",
    "        date = file_date.read()[-4:]\n",
    "        file_date.close()\n",
    "    if os.path.exists(datapath  + r'\\\\' + foldername + r'\\\\difficulty.txt'):\n",
    "        file_difficulty = open(datapath  + r'\\\\' + foldername + r'\\\\difficulty.txt', 'r')\n",
    "        difficulty = file_difficulty.read()\n",
    "        file_difficulty.close()\n",
    "    if name is None:\n",
    "        file_properties.write('\\n')\n",
    "    else:\n",
    "        file_properties.write(name + '\\n')\n",
    "    \n",
    "    if author is None:\n",
    "        file_properties.write('\\n')\n",
    "    else:\n",
    "        file_properties.write(author + '\\n')\n",
    "        \n",
    "    if date is None:\n",
    "        file_properties.write('\\n')\n",
    "    else:\n",
    "        file_properties.write(date + '\\n')\n",
    "        \n",
    "    if difficulty is None:\n",
    "        file_properties.write('\\n')\n",
    "    else:\n",
    "        file_properties.write(difficulty + '\\n')\n",
    "    file_properties.close()"
   ]
  },
  {
   "cell_type": "code",
   "execution_count": 69,
   "metadata": {
    "ExecuteTime": {
     "end_time": "2019-08-08T16:53:44.621501Z",
     "start_time": "2019-08-08T16:53:44.496428Z"
    }
   },
   "outputs": [],
   "source": [
    "data = pd.read_csv(r'D:\\Files\\Programming\\TaskGen\\comb_new.csv', sep=';').fillna('')"
   ]
  },
  {
   "cell_type": "code",
   "execution_count": 70,
   "metadata": {
    "ExecuteTime": {
     "end_time": "2019-08-08T16:53:45.050510Z",
     "start_time": "2019-08-08T16:53:44.992642Z"
    }
   },
   "outputs": [],
   "source": [
    "data['topics'] = ['' for i in range(data.shape[0])]"
   ]
  },
  {
   "cell_type": "code",
   "execution_count": 71,
   "metadata": {
    "ExecuteTime": {
     "end_time": "2019-08-08T16:53:55.343510Z",
     "start_time": "2019-08-08T16:53:45.459447Z"
    }
   },
   "outputs": [],
   "source": [
    "for index, row in data.iterrows():\n",
    "    topic1 = row['topic1']\n",
    "    topic2 = row['topic2']\n",
    "    topic3 = row['topic3']\n",
    "    data['topics'].iloc[index] = (str(topic1) + ', ' + str(topic2) + ', ' + str(topic3))"
   ]
  },
  {
   "cell_type": "code",
   "execution_count": 76,
   "metadata": {
    "ExecuteTime": {
     "end_time": "2019-08-08T16:56:04.573498Z",
     "start_time": "2019-08-08T16:56:04.559508Z"
    }
   },
   "outputs": [],
   "source": [
    "data[:304].to_csv(r'D:\\Files\\Programming\\TaskGen\\comb_modified.csv', sep='\\t', index=False)"
   ]
  },
  {
   "cell_type": "code",
   "execution_count": 75,
   "metadata": {
    "ExecuteTime": {
     "end_time": "2019-08-08T16:56:00.310735Z",
     "start_time": "2019-08-08T16:56:00.295776Z"
    }
   },
   "outputs": [
    {
     "data": {
      "text/html": [
       "<div>\n",
       "<style scoped>\n",
       "    .dataframe tbody tr th:only-of-type {\n",
       "        vertical-align: middle;\n",
       "    }\n",
       "\n",
       "    .dataframe tbody tr th {\n",
       "        vertical-align: top;\n",
       "    }\n",
       "\n",
       "    .dataframe thead th {\n",
       "        text-align: right;\n",
       "    }\n",
       "</style>\n",
       "<table border=\"1\" class=\"dataframe\">\n",
       "  <thead>\n",
       "    <tr style=\"text-align: right;\">\n",
       "      <th></th>\n",
       "      <th>author</th>\n",
       "      <th>difficulty</th>\n",
       "      <th>date</th>\n",
       "      <th>topic1</th>\n",
       "      <th>text</th>\n",
       "      <th>topic2</th>\n",
       "      <th>topic3</th>\n",
       "      <th>answer</th>\n",
       "      <th>hint</th>\n",
       "      <th>solution</th>\n",
       "      <th>topics</th>\n",
       "    </tr>\n",
       "  </thead>\n",
       "  <tbody>\n",
       "    <tr>\n",
       "      <th>0</th>\n",
       "      <td>Ираклий Гагуа</td>\n",
       "      <td>50</td>\n",
       "      <td>2011</td>\n",
       "      <td>комбинаторика</td>\n",
       "      <td>Сколько существует\\nА) трехзначных чисел?\\nБ) ...</td>\n",
       "      <td>числа</td>\n",
       "      <td></td>\n",
       "      <td></td>\n",
       "      <td></td>\n",
       "      <td></td>\n",
       "      <td>комбинаторика, числа,</td>\n",
       "    </tr>\n",
       "  </tbody>\n",
       "</table>\n",
       "</div>"
      ],
      "text/plain": [
       "          author  difficulty  date         topic1  \\\n",
       "0  Ираклий Гагуа          50  2011  комбинаторика   \n",
       "\n",
       "                                                text topic2 topic3 answer  \\\n",
       "0  Сколько существует\\nА) трехзначных чисел?\\nБ) ...  числа                 \n",
       "\n",
       "  hint solution                  topics  \n",
       "0                комбинаторика, числа,   "
      ]
     },
     "execution_count": 75,
     "metadata": {},
     "output_type": "execute_result"
    }
   ],
   "source": []
  },
  {
   "cell_type": "code",
   "execution_count": 53,
   "metadata": {
    "ExecuteTime": {
     "end_time": "2019-08-08T15:25:17.459834Z",
     "start_time": "2019-08-08T15:25:17.454838Z"
    }
   },
   "outputs": [
    {
     "data": {
      "text/plain": [
       "True"
      ]
     },
     "execution_count": 53,
     "metadata": {},
     "output_type": "execute_result"
    }
   ],
   "source": []
  },
  {
   "cell_type": "code",
   "execution_count": 66,
   "metadata": {
    "ExecuteTime": {
     "end_time": "2019-08-08T16:02:04.670457Z",
     "start_time": "2019-08-08T16:02:04.665471Z"
    }
   },
   "outputs": [
    {
     "data": {
      "text/plain": [
       "(324, 11)"
      ]
     },
     "execution_count": 66,
     "metadata": {},
     "output_type": "execute_result"
    }
   ],
   "source": [
    "data.shape"
   ]
  },
  {
   "cell_type": "code",
   "execution_count": 68,
   "metadata": {
    "ExecuteTime": {
     "end_time": "2019-08-08T16:04:49.205881Z",
     "start_time": "2019-08-08T16:04:49.199897Z"
    }
   },
   "outputs": [
    {
     "data": {
      "text/plain": [
       "False"
      ]
     },
     "execution_count": 68,
     "metadata": {},
     "output_type": "execute_result"
    }
   ],
   "source": [
    "'Ираклий Гагуа\\n' in data['date'].values"
   ]
  },
  {
   "cell_type": "code",
   "execution_count": null,
   "metadata": {},
   "outputs": [],
   "source": []
  }
 ],
 "metadata": {
  "hide_input": false,
  "kernelspec": {
   "display_name": "Python 3",
   "language": "python",
   "name": "python3"
  },
  "language_info": {
   "codemirror_mode": {
    "name": "ipython",
    "version": 3
   },
   "file_extension": ".py",
   "mimetype": "text/x-python",
   "name": "python",
   "nbconvert_exporter": "python",
   "pygments_lexer": "ipython3",
   "version": "3.6.8"
  },
  "toc": {
   "base_numbering": 1,
   "nav_menu": {},
   "number_sections": true,
   "sideBar": true,
   "skip_h1_title": false,
   "title_cell": "Table of Contents",
   "title_sidebar": "Contents",
   "toc_cell": false,
   "toc_position": {},
   "toc_section_display": true,
   "toc_window_display": false
  }
 },
 "nbformat": 4,
 "nbformat_minor": 2
}
